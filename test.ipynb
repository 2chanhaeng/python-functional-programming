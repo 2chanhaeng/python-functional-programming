{
 "cells": [
  {
   "cell_type": "code",
   "execution_count": 1,
   "metadata": {},
   "outputs": [],
   "source": [
    "from chain import LightChain as Chain\n",
    "from curry import curry"
   ]
  },
  {
   "cell_type": "code",
   "execution_count": 2,
   "metadata": {},
   "outputs": [
    {
     "data": {
      "text/plain": [
       "25"
      ]
     },
     "execution_count": 2,
     "metadata": {},
     "output_type": "execute_result"
    }
   ],
   "source": [
    "(Chain(range(10))\n",
    "    .map(lambda x: x + 1)\n",
    "    .filter(lambda x: x % 2)\n",
    "    .reduce(lambda prev, curr: prev + curr))"
   ]
  },
  {
   "cell_type": "code",
   "execution_count": 3,
   "metadata": {},
   "outputs": [],
   "source": [
    "@curry\n",
    "def add(a, b):\n",
    "    return a + b\n",
    "\n",
    "@curry\n",
    "def mod(a, b):\n",
    "    return b % a"
   ]
  },
  {
   "cell_type": "code",
   "execution_count": 4,
   "metadata": {},
   "outputs": [
    {
     "data": {
      "text/plain": [
       "25"
      ]
     },
     "execution_count": 4,
     "metadata": {},
     "output_type": "execute_result"
    }
   ],
   "source": [
    "(Chain(range(10))\n",
    "    .map(add(1))\n",
    "    .filter(mod(2))\n",
    "    .reduce(add))"
   ]
  },
  {
   "cell_type": "code",
   "execution_count": 5,
   "metadata": {},
   "outputs": [
    {
     "name": "stdout",
     "output_type": "stream",
     "text": [
      "{'x': 2, 'y': 3, 'z': 1}\n",
      "{'x': 2, 'y': 3, 'z': 1}\n",
      "{'x': 2, 'y': 3, 'z': 1}\n",
      "{'x': 2, 'y': 3, 'z': 1}\n",
      "{'x': 2, 'y': 3, 'z': 1}\n",
      "{'x': 2, 'y': 3, 'z': 1}\n"
     ]
    }
   ],
   "source": [
    "print(curry(lambda x, y=2, z=1: {\"x\":x, \"y\": y, \"z\": z})(2, 3, 1))\n",
    "print(curry(lambda x, y=2, z=1: {\"x\":x, \"y\": y, \"z\": z})(2)(3)(1))\n",
    "print(curry(lambda x, y=2, z=1: {\"x\":x, \"y\": y, \"z\": z})(2, z=1)(y=3))\n",
    "print(curry(lambda x, y=2, z=1: {\"x\":x, \"y\": y, \"z\": z})(2)(z=1)(y=3))\n",
    "print(curry(lambda x, y=2, z=1: {\"x\":x, \"y\": y, \"z\": z})(z=1)(y=3)(2))\n",
    "print(curry(lambda x, y=2, z=1: {\"x\":x, \"y\": y, \"z\": z})(z=1)(x=2)(y=3))"
   ]
  }
 ],
 "metadata": {
  "kernelspec": {
   "display_name": "Python 3.10.4 ('venv': venv)",
   "language": "python",
   "name": "python3"
  },
  "language_info": {
   "codemirror_mode": {
    "name": "ipython",
    "version": 3
   },
   "file_extension": ".py",
   "mimetype": "text/x-python",
   "name": "python",
   "nbconvert_exporter": "python",
   "pygments_lexer": "ipython3",
   "version": "3.10.4"
  },
  "orig_nbformat": 4,
  "vscode": {
   "interpreter": {
    "hash": "9364c23ac6c252f0341a8545b4a0b46901f338953ef4afc31a01a882b9b5d482"
   }
  }
 },
 "nbformat": 4,
 "nbformat_minor": 2
}
