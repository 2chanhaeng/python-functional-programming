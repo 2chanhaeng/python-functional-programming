{
 "cells": [
  {
   "cell_type": "code",
   "execution_count": null,
   "metadata": {},
   "outputs": [],
   "source": []
  }
 ],
 "metadata": {
  "kernelspec": {
   "display_name": "Python 3.10.4 ('venv': venv)",
   "language": "python",
   "name": "python3"
  },
  "language_info": {
   "name": "python",
   "version": "3.10.4"
  },
  "orig_nbformat": 4,
  "vscode": {
   "interpreter": {
    "hash": "9364c23ac6c252f0341a8545b4a0b46901f338953ef4afc31a01a882b9b5d482"
   }
  }
 },
 "nbformat": 4,
 "nbformat_minor": 2
}
