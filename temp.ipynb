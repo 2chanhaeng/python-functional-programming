{
 "cells": [
  {
   "cell_type": "code",
   "execution_count": 2,
   "metadata": {},
   "outputs": [],
   "source": [
    "from curry import curry\n",
    "from inspect import signature\n",
    "from lambda_calculus import *\n",
    "from recursive import recursive\n",
    "from chain import LightChain as Chain\n",
    "from typing import Callable, TypeVar, ParamSpec, NewType, Any\n",
    "P, Q = ParamSpec('P'), ParamSpec('P')\n",
    "T, _S = TypeVar('T'), TypeVar('S')\n",
    "F = Callable[[T],T]\n",
    "Recusive = int\n",
    "Functor = Callable[[F],F]\n",
    "Pair = Callable[P,Callable[Q,Callable[[Callable[P,Callable[Q,T]]],T]]]"
   ]
  },
  {
   "cell_type": "code",
   "execution_count": 2,
   "metadata": {},
   "outputs": [],
   "source": [
    "@curry\n",
    "def add(a, b):\n",
    "    return a + b\n",
    "\n",
    "@curry\n",
    "def mod(a, b):\n",
    "    return b % a"
   ]
  },
  {
   "cell_type": "code",
   "execution_count": 3,
   "metadata": {},
   "outputs": [
    {
     "data": {
      "text/plain": [
       "0"
      ]
     },
     "execution_count": 3,
     "metadata": {},
     "output_type": "execute_result"
    }
   ],
   "source": [
    "init = value(0)\n",
    "init(identify)"
   ]
  },
  {
   "cell_type": "code",
   "execution_count": 4,
   "metadata": {},
   "outputs": [
    {
     "name": "stdout",
     "output_type": "stream",
     "text": [
      "0\n",
      "3\n"
     ]
    }
   ],
   "source": [
    "print(extract(init))\n",
    "print(extract(recursive(3)))"
   ]
  },
  {
   "cell_type": "code",
   "execution_count": 5,
   "metadata": {},
   "outputs": [
    {
     "data": {
      "text/plain": [
       "2"
      ]
     },
     "execution_count": 5,
     "metadata": {},
     "output_type": "execute_result"
    }
   ],
   "source": [
    "inc = lambda g: lambda h: h(g(lambda x: x + 1))\n",
    "extract(inc(inc(init)))"
   ]
  },
  {
   "cell_type": "code",
   "execution_count": 6,
   "metadata": {},
   "outputs": [
    {
     "name": "stdout",
     "output_type": "stream",
     "text": [
      "1 2\n"
     ]
    }
   ],
   "source": [
    "oneNtwo = pair(1)(2)\n",
    "print(first(oneNtwo), second(oneNtwo))"
   ]
  },
  {
   "cell_type": "code",
   "execution_count": 7,
   "metadata": {},
   "outputs": [
    {
     "data": {
      "text/plain": [
       "4"
      ]
     },
     "execution_count": 7,
     "metadata": {},
     "output_type": "execute_result"
    }
   ],
   "source": [
    "extract(pred(5)(inc)(init))"
   ]
  },
  {
   "cell_type": "code",
   "execution_count": 65,
   "metadata": {},
   "outputs": [],
   "source": [
    "def print_return(arg):\n",
    "    print(arg)\n",
    "    return arg"
   ]
  },
  {
   "cell_type": "code",
   "execution_count": 90,
   "metadata": {},
   "outputs": [
    {
     "name": "stdout",
     "output_type": "stream",
     "text": [
      "Category: Natural Number\n",
      "init: 0\n",
      "inc inc: 2\n",
      "succ(2): 3\n",
      "plus(2)(3): 5\n",
      "pred(2): 1\n",
      "\n",
      "Category: Even Number\n",
      "init: 0\n",
      "inc inc: 4\n",
      "succ(2): 6\n",
      "plus(2)(3): 10\n",
      "pred(2): 2\n",
      "\n",
      "Category: Odd Number\n",
      "init: 1\n",
      "inc inc: 5\n",
      "succ(2): 7\n",
      "plus(2)(3): 11\n",
      "pred(2): 3\n",
      "\n",
      "Category: String\n",
      "init: x\n",
      "inc inc: f( f( x))\n",
      "succ(2): f( f( f( x)))\n",
      "plus(2)(3): f( f( f( f( f( x)))))\n",
      "pred(2): f( x)\n",
      "\n"
     ]
    }
   ],
   "source": [
    "class Category:\n",
    "    value:Callable[[T], Callable[[Callable], T]] = lambda v: (lambda h: h(v))\n",
    "    const:Callable[[T], Callable[[Callable], T]] = lambda v: lambda u: v\n",
    "    inc:Callable[[F], Callable[[Callable], T]] = lambda f: lambda g: lambda h: h(g(f))\n",
    "    succ:Callable[[Recusive], Callable[[F], T]] \\\n",
    "        = lambda f: lambda x: lambda n: f(recursive(n)(f)(x))\n",
    "    \n",
    "    def __init__(self, f:F, x:T):\n",
    "        self.__f = f\n",
    "        self.const = Category.const(x)\n",
    "        self.init = Category.value(x)\n",
    "        self.inc = Category.inc(f)\n",
    "        self.succ = Category.succ(self.inc)(self.init)\n",
    "        self.plus:Callable[[Recusive], Callable[[Recusive], T]] \\\n",
    "            = lambda m: lambda n: recursive(m)(self.inc)(recursive(n)(self.inc)(self.init))\n",
    "        self.curr_succ:Callable[[Pair], Pair] = lambda p: pair(second(p))(self.inc(second(p)))\n",
    "        self.pred:Callable[[Recusive], T] \\\n",
    "            = lambda n: first(recursive(print_return(n))(self.curr_succ)(pair(self.init)(self.init)))\n",
    "        self.pred_:Callable[[Recusive], T] \\\n",
    "            = lambda n: recursive(n)(self.inc)(lambda u: x)(lambda u: u)\n",
    "        self.minus:Callable[[Recusive], Callable[[Recusive], Functor]]\\\n",
    "            = lambda m: lambda n: (recursive(n)(self.pred))\n",
    "\n",
    "\n",
    "def check(c:Category, name:str) -> None:\n",
    "    print(\"Category:\", name)\n",
    "    print(\"init:\", extract(c.init))\n",
    "    print(\"inc inc:\", extract(c.inc(c.inc(c.init))))\n",
    "    print(\"succ(2):\", extract(c.succ(2)))\n",
    "    print(\"plus(2)(3):\", extract(c.plus(2)(3)))\n",
    "    print(\"pred(2):\", c.pred_(2))\n",
    "    # print(\"minus(2)(5):\", extract(c.minus(2)(5)))\n",
    "    print()\n",
    "\n",
    "\n",
    "N = Category(add(1), 0)\n",
    "check(N, \"Natural Number\")\n",
    "E = Category(add(2), 0)\n",
    "check(E, \"Even Number\")\n",
    "O = Category(add(2), 1)\n",
    "check(O, \"Odd Number\")\n",
    "S = Category(\"f( {})\".format, \"x\")\n",
    "check(S, \"String\")"
   ]
  },
  {
   "cell_type": "code",
   "execution_count": null,
   "metadata": {},
   "outputs": [],
   "source": [
    "f = lambda p: pair(second(p))(succ(1)(inc)(second(p)))\n",
    "zero = lambda f: lambda x: x\n",
    "pc0 = pair(zero)(zero)\n",
    "pred = lambda n: first(n(f)(pc0))\n",
    "extract(pred(recursive(3)))"
   ]
  },
  {
   "cell_type": "code",
   "execution_count": null,
   "metadata": {},
   "outputs": [],
   "source": [
    "print(extract(pred(pred(3))))"
   ]
  },
  {
   "cell_type": "code",
   "execution_count": null,
   "metadata": {},
   "outputs": [],
   "source": [
    "minus = lambda m: lambda n: recursive(n)((pred)(m))\n",
    "print(extract(minus(7)(3)))"
   ]
  }
 ],
 "metadata": {
  "kernelspec": {
   "display_name": "Python 3.10.6 64-bit",
   "language": "python",
   "name": "python3"
  },
  "language_info": {
   "codemirror_mode": {
    "name": "ipython",
    "version": 3
   },
   "file_extension": ".py",
   "mimetype": "text/x-python",
   "name": "python",
   "nbconvert_exporter": "python",
   "pygments_lexer": "ipython3",
   "version": "3.10.6"
  },
  "orig_nbformat": 4,
  "vscode": {
   "interpreter": {
    "hash": "26de051ba29f2982a8de78e945f0abaf191376122a1563185a90213a26c5da77"
   }
  }
 },
 "nbformat": 4,
 "nbformat_minor": 2
}
